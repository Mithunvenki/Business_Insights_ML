{
  "nbformat": 4,
  "nbformat_minor": 0,
  "metadata": {
    "colab": {
      "provenance": []
    },
    "kernelspec": {
      "name": "python3",
      "display_name": "Python 3"
    },
    "language_info": {
      "name": "python"
    }
  },
  "cells": [
    {
      "cell_type": "markdown",
      "source": [
        "# Import Necessary Libraries\n",
        "Importing essential libraries for data manipulation, feature extraction, similarity calculation, and scaling. These tools help preprocess the dataset and calculate similarity scores efficiently"
      ],
      "metadata": {
        "id": "RJc_NSKCXE3a"
      }
    },
    {
      "cell_type": "code",
      "execution_count": 4,
      "metadata": {
        "id": "yKqtB-CZjC05"
      },
      "outputs": [],
      "source": [
        "import pandas as pd\n",
        "import csv\n",
        "from sklearn.feature_extraction.text import TfidfVectorizer\n",
        "from sklearn.metrics.pairwise import cosine_similarity\n",
        "from sklearn.preprocessing import StandardScaler\n",
        "from collections import defaultdict"
      ]
    },
    {
      "cell_type": "markdown",
      "source": [
        "#Load and Merge Dataset\n",
        "\n",
        "This function loads data from the three provided CSV files—customers, products, and transactions—and merges them into a single cohesive dataset. By dropping redundant columns and joining datasets based on common keys (CustomerID and ProductID), it ensures a clean and unified data structure for further analysis"
      ],
      "metadata": {
        "id": "oVWnfuhoZ-12"
      }
    },
    {
      "cell_type": "code",
      "source": [
        "def load_and_merge_data(customers_path, products_path, transactions_path):\n",
        "    customers = pd.read_csv('/content/Customers.csv')\n",
        "    products = pd.read_csv('/content/Products.csv')\n",
        "    transactions = pd.read_csv('/content/Transactions.csv')\n",
        "    products.drop(columns=['Price'], inplace=True)\n",
        "    customer_transactions = pd.merge(transactions, customers, on='CustomerID', how='left')\n",
        "    customer_transactions = pd.merge(customer_transactions, products, on='ProductID', how='left')\n",
        "    customer_transactions.to_csv('customer_transactions.csv',index=False)\n",
        "    return customer_transactions, customers, products"
      ],
      "metadata": {
        "id": "2CHri_qhZctr"
      },
      "execution_count": 13,
      "outputs": []
    },
    {
      "cell_type": "markdown",
      "source": [
        "# Feature Engineering\n",
        "\n",
        "This function generates aggregated features for each customer from the merged transaction dataset. These features provide valuable insights into customer behavior and preferences, which can later be used for similarity analysis and lookalike recommendations"
      ],
      "metadata": {
        "id": "PWVex4jVYFLF"
      }
    },
    {
      "cell_type": "code",
      "source": [
        "def create_customer_features(customer_transactions):\n",
        "    customer_features = customer_transactions.groupby('CustomerID').agg({\n",
        "        'Price': 'sum',\n",
        "        'ProductID': 'nunique',\n",
        "        'Region': 'first',\n",
        "        'SignupDate': 'first'\n",
        "    }).reset_index()\n",
        "    scaler = StandardScaler()\n",
        "    customer_features[['Price_y', 'ProductID']] = scaler.fit_transform(customer_features[['Price', 'ProductID']])\n",
        "\n",
        "    return customer_features\n"
      ],
      "metadata": {
        "id": "LQmFC4ikmYio"
      },
      "execution_count": 14,
      "outputs": []
    },
    {
      "cell_type": "markdown",
      "source": [
        "# Calculate product Similarities\n",
        "\n",
        "This function computes similarity scores between products based on their names, leveraging text-based techniques to capture semantic similarities. These scores help identify related or similar products, which can further enhance customer segmentation and recommendation models."
      ],
      "metadata": {
        "id": "rJk6JXvuapkN"
      }
    },
    {
      "cell_type": "code",
      "source": [
        "def get_product_similarity(customer_transactions):\n",
        "    tfidf_vectorizer = TfidfVectorizer()\n",
        "    tfidf_matrix = tfidf_vectorizer.fit_transform(customer_transactions['ProductName'].fillna(''))\n",
        "    product_similarity = cosine_similarity(tfidf_matrix)\n",
        "\n",
        "    return product_similarity\n"
      ],
      "metadata": {
        "id": "Rg3hz5KgmmJV"
      },
      "execution_count": 15,
      "outputs": []
    },
    {
      "cell_type": "markdown",
      "source": [
        "# Calculate Customer Similarity\n",
        "\n",
        "This function computes a similarity score between two customers by combining their profile-based similarity and product purchase behavior similarity. It provides a holistic view of customer similarity, essential for building accurate lookalike models."
      ],
      "metadata": {
        "id": "sghjIznEa-Jl"
      }
    },
    {
      "cell_type": "code",
      "source": [
        "def calculate_similarity(customer_id1, customer_id2, customer_features, product_similarity):\n",
        "    idx1 = customer_features[customer_features['CustomerID'] == customer_id1].index[0]\n",
        "    idx2 = customer_features[customer_features['CustomerID'] == customer_id2].index[0]\n",
        "    profile_similarity = cosine_similarity(customer_features[['Price', 'ProductID']].iloc[idx1:idx1+1],\n",
        "                                           customer_features[['Price', 'ProductID']].iloc[idx2:idx2+1])[0][0]\n",
        "    product_similarity_score = product_similarity[idx1, idx2]\n",
        "    combined_similarity = 0.5 * profile_similarity + 0.5 * product_similarity_score\n",
        "\n",
        "    return combined_similarity\n"
      ],
      "metadata": {
        "id": "RO8omfopmquH"
      },
      "execution_count": 16,
      "outputs": []
    },
    {
      "cell_type": "markdown",
      "source": [
        "# Generate lookalikes for Customers\n",
        "\n",
        "This function identifies the top 3 lookalike customers for each of the first 20 customers based on their similarity scores. It leverages the combined profile and product similarity to deliver precise recommendations."
      ],
      "metadata": {
        "id": "uRJbI9MTbWk9"
      }
    },
    {
      "cell_type": "code",
      "source": [
        "def generate_lookalikes(customer_features, product_similarity):\n",
        "    lookalikes = defaultdict(list)\n",
        "\n",
        "    for customer_id in customer_features['CustomerID'][:20]:\n",
        "        similarities = []\n",
        "\n",
        "        for other_customer_id in customer_features['CustomerID']:\n",
        "            if customer_id != other_customer_id:\n",
        "                similarity_score = calculate_similarity(customer_id, other_customer_id, customer_features, product_similarity)\n",
        "                similarities.append((other_customer_id, similarity_score))\n",
        "        top_3_lookalikes = sorted(similarities, key=lambda x: x[1], reverse=True)[:3]\n",
        "        lookalikes[customer_id] = top_3_lookalikes\n",
        "        print(top_3_lookalikes)\n",
        "    return lookalikes\n"
      ],
      "metadata": {
        "id": "Fb15VQcimzFG"
      },
      "execution_count": 17,
      "outputs": []
    },
    {
      "cell_type": "markdown",
      "source": [
        "# Saving Lookalikes to csv\n",
        "This function exports the lookalike recommendations into a CSV file, which can be easily used for further analysis or presentation. Each customer's top 3 lookalikes, along with their similarity scores, are saved in a structured format"
      ],
      "metadata": {
        "id": "Iypyj9X-cGK8"
      }
    },
    {
      "cell_type": "code",
      "source": [
        "def save_lookalikes_to_csv(lookalikes, output_path):\n",
        "    lookalike_data = []\n",
        "    for cust_id, recommendations in lookalikes.items():\n",
        "        row = [cust_id]\n",
        "        for recommendation in recommendations:\n",
        "            row.append(recommendation[0])\n",
        "            row.append(recommendation[1])\n",
        "        lookalike_data.append(row)\n",
        "    header = ['CustomerID', 'Lookalike1_ID', 'Score1', 'Lookalike2_ID', 'Score2', 'Lookalike3_ID', 'Score3']\n",
        "    with open(output_path, mode='w', newline='') as f:\n",
        "        writer = csv.writer(f)\n",
        "        writer.writerow(header)\n",
        "        writer.writerows(lookalike_data)\n",
        "\n",
        "    print(f\"Lookalikes saved to {output_path}\")\n"
      ],
      "metadata": {
        "id": "6sNdV_Bym3Vu"
      },
      "execution_count": 18,
      "outputs": []
    },
    {
      "cell_type": "markdown",
      "source": [
        "# Main Function - Bringing Everything together\n",
        "The main function orchestrates the entire lookalike generation process. It integrates data loading, feature creation, similarity calculation, and CSV saving in a streamlined workflow."
      ],
      "metadata": {
        "id": "b8VsYUvIcW68"
      }
    },
    {
      "cell_type": "code",
      "source": [
        "def main():\n",
        "    customers_path = 'Customers.csv'\n",
        "    products_path = 'Products.csv'\n",
        "    transactions_path = 'Transactions.csv'\n",
        "    customer_transactions, customers, products = load_and_merge_data(customers_path, products_path, transactions_path)\n",
        "    customer_features = create_customer_features(customer_transactions)\n",
        "    product_similarity = get_product_similarity(customer_transactions)\n",
        "    lookalikes = generate_lookalikes(customer_features, product_similarity)\n",
        "    output_path = 'Mithun_V_Lookalike.csv'\n",
        "    save_lookalikes_to_csv(lookalikes, output_path)\n",
        "main()\n"
      ],
      "metadata": {
        "colab": {
          "base_uri": "https://localhost:8080/"
        },
        "id": "EgkhihSZnPrt",
        "outputId": "68beae69-ec88-4550-8ee7-a0009ef3e667"
      },
      "execution_count": 19,
      "outputs": [
        {
          "output_type": "stream",
          "name": "stdout",
          "text": [
            "[('C0011', 0.9999999999992286), ('C0012', 0.9999999855247398), ('C0006', 0.9999999684300638)]\n",
            "[('C0003', 0.9999999997063942), ('C0010', 0.9999999915076985), ('C0006', 0.9999999911434667)]\n",
            "[('C0002', 0.9999999997063942), ('C0010', 0.9999999943721862), ('C0006', 0.9999999876247541)]\n",
            "[('C0008', 0.9999999800623312), ('C0013', 0.9999999743404847), ('C0012', 0.9999999403501596)]\n",
            "[('C0009', 0.9999999998456444), ('C0007', 0.999999992654997), ('C0010', 0.9999999719261146)]\n",
            "[('C0002', 0.9999999911434667), ('C0003', 0.9999999876247541), ('C0011', 0.9999999687414058)]\n",
            "[('C0009', 0.9999999946301884), ('C0010', 0.9999999933006363), ('C0005', 0.999999992654997)]\n",
            "[('C0004', 0.9999999800623312), ('C0013', 0.9999999091660667), ('C0012', 0.9999998514406535)]\n",
            "[('C0005', 0.9999999998456444), ('C0007', 0.9999999946301884), ('C0010', 0.9999999759351053)]\n",
            "[('C0003', 0.9999999943721862), ('C0007', 0.9999999933006363), ('C0002', 0.9999999915076985)]\n",
            "[('C0001', 0.9999999999992286), ('C0012', 0.9999999853126249), ('C0006', 0.9999999687414058)]\n",
            "[('C0013', 0.9999999929360526), ('C0001', 0.9999999855247398), ('C0011', 0.9999999853126249)]\n",
            "[('C0012', 0.9999999929360526), ('C0004', 0.9999999743404847), ('C0001', 0.9999999582367993)]\n",
            "[('C0130', 0.9999925771782846), ('C0020', 0.9999922030176654), ('C0015', 0.9999766596641975)]\n",
            "[('C0132', 0.9999999932788234), ('C0131', 0.9999997635083511), ('C0135', 0.9999993789811767)]\n",
            "[('C0152', 0.9999999999645397), ('C0018', 0.9999999999525417), ('C0157', 0.9999999998383271)]\n",
            "[('C0156', 0.9999999992743615), ('C0021', 0.999999988035351), ('C0155', 0.9999999592087857)]\n",
            "[('C0152', 0.9999999999991274), ('C0157', 0.9999999999660569), ('C0016', 0.9999999999525417)]\n",
            "[('C0153', 0.9999999995714413), ('C0155', 0.9999999994167109), ('C0022', 0.9999999993653814)]\n",
            "[('C0130', 0.9999999954001249), ('C0015', 0.9999958429286677), ('C0132', 0.9999955019005382)]\n",
            "Lookalikes saved to Mithun_V_Lookalike.csv\n"
          ]
        }
      ]
    }
  ]
}